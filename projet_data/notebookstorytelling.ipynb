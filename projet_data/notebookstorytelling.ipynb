{
 "cells": [
  {
   "cell_type": "code",
   "execution_count": 1,
   "id": "21368874",
   "metadata": {},
   "outputs": [],
   "source": [
    "# Librairies \n",
    "import numpy as np \n",
    "import pandas as pd \n",
    "import matplotlib.pyplot as plt\n",
    "import seaborn as sns\n",
    "import os\n"
   ]
  },
  {
   "cell_type": "code",
   "execution_count": 2,
   "id": "15f06cd4",
   "metadata": {},
   "outputs": [
    {
     "data": {
      "text/plain": [
       "'C:\\\\Users\\\\bodje\\\\SuiviProjet'"
      ]
     },
     "execution_count": 2,
     "metadata": {},
     "output_type": "execute_result"
    }
   ],
   "source": [
    "cwd = os.getcwd()\n",
    "cwd"
   ]
  },
  {
   "cell_type": "raw",
   "id": "1a558f0c",
   "metadata": {},
   "source": [
    "On prends seulement les deux joueurs qui nous interessent pour le data storytelling à savoir messi et ronaldo"
   ]
  },
  {
   "cell_type": "raw",
   "id": "ea672848",
   "metadata": {},
   "source": [
    "15"
   ]
  },
  {
   "cell_type": "code",
   "execution_count": 3,
   "id": "4293ac87",
   "metadata": {},
   "outputs": [
    {
     "name": "stderr",
     "output_type": "stream",
     "text": [
      "C:\\Users\\bodje\\anaconda3\\lib\\site-packages\\IPython\\core\\interactiveshell.py:3165: DtypeWarning: Columns (104) have mixed types.Specify dtype option on import or set low_memory=False.\n",
      "  has_raised = await self.run_ast_nodes(code_ast.body, cell_name,\n"
     ]
    },
    {
     "data": {
      "text/html": [
       "<div>\n",
       "<style scoped>\n",
       "    .dataframe tbody tr th:only-of-type {\n",
       "        vertical-align: middle;\n",
       "    }\n",
       "\n",
       "    .dataframe tbody tr th {\n",
       "        vertical-align: top;\n",
       "    }\n",
       "\n",
       "    .dataframe thead th {\n",
       "        text-align: right;\n",
       "    }\n",
       "</style>\n",
       "<table border=\"1\" class=\"dataframe\">\n",
       "  <thead>\n",
       "    <tr style=\"text-align: right;\">\n",
       "      <th></th>\n",
       "      <th>sofifa_id</th>\n",
       "      <th>player_url</th>\n",
       "      <th>short_name</th>\n",
       "      <th>long_name</th>\n",
       "      <th>player_positions</th>\n",
       "      <th>overall</th>\n",
       "      <th>potential</th>\n",
       "      <th>value_eur</th>\n",
       "      <th>wage_eur</th>\n",
       "      <th>age</th>\n",
       "      <th>...</th>\n",
       "      <th>lcb</th>\n",
       "      <th>cb</th>\n",
       "      <th>rcb</th>\n",
       "      <th>rb</th>\n",
       "      <th>gk</th>\n",
       "      <th>player_face_url</th>\n",
       "      <th>club_logo_url</th>\n",
       "      <th>club_flag_url</th>\n",
       "      <th>nation_logo_url</th>\n",
       "      <th>nation_flag_url</th>\n",
       "    </tr>\n",
       "  </thead>\n",
       "  <tbody>\n",
       "    <tr>\n",
       "      <th>0</th>\n",
       "      <td>158023</td>\n",
       "      <td>https://sofifa.com/player/158023/lionel-messi/...</td>\n",
       "      <td>L. Messi</td>\n",
       "      <td>Lionel Andrés Messi Cuccittini</td>\n",
       "      <td>CF</td>\n",
       "      <td>93</td>\n",
       "      <td>95</td>\n",
       "      <td>100500000.0</td>\n",
       "      <td>550000.0</td>\n",
       "      <td>27</td>\n",
       "      <td>...</td>\n",
       "      <td>45+3</td>\n",
       "      <td>45+3</td>\n",
       "      <td>45+3</td>\n",
       "      <td>54+3</td>\n",
       "      <td>15+3</td>\n",
       "      <td>https://cdn.sofifa.net/players/158/023/15_120.png</td>\n",
       "      <td>https://cdn.sofifa.net/teams/241/60.png</td>\n",
       "      <td>https://cdn.sofifa.net/flags/es.png</td>\n",
       "      <td>https://cdn.sofifa.net/teams/1369/60.png</td>\n",
       "      <td>https://cdn.sofifa.net/flags/ar.png</td>\n",
       "    </tr>\n",
       "    <tr>\n",
       "      <th>1</th>\n",
       "      <td>20801</td>\n",
       "      <td>https://sofifa.com/player/20801/c-ronaldo-dos-...</td>\n",
       "      <td>Cristiano Ronaldo</td>\n",
       "      <td>Cristiano Ronaldo dos Santos Aveiro</td>\n",
       "      <td>LW, LM</td>\n",
       "      <td>92</td>\n",
       "      <td>92</td>\n",
       "      <td>79000000.0</td>\n",
       "      <td>375000.0</td>\n",
       "      <td>29</td>\n",
       "      <td>...</td>\n",
       "      <td>52+3</td>\n",
       "      <td>52+3</td>\n",
       "      <td>52+3</td>\n",
       "      <td>57+3</td>\n",
       "      <td>16+3</td>\n",
       "      <td>https://cdn.sofifa.net/players/020/801/15_120.png</td>\n",
       "      <td>https://cdn.sofifa.net/teams/243/60.png</td>\n",
       "      <td>https://cdn.sofifa.net/flags/es.png</td>\n",
       "      <td>https://cdn.sofifa.net/teams/1354/60.png</td>\n",
       "      <td>https://cdn.sofifa.net/flags/pt.png</td>\n",
       "    </tr>\n",
       "  </tbody>\n",
       "</table>\n",
       "<p>2 rows × 110 columns</p>\n",
       "</div>"
      ],
      "text/plain": [
       "   sofifa_id                                         player_url  \\\n",
       "0     158023  https://sofifa.com/player/158023/lionel-messi/...   \n",
       "1      20801  https://sofifa.com/player/20801/c-ronaldo-dos-...   \n",
       "\n",
       "          short_name                            long_name player_positions  \\\n",
       "0           L. Messi       Lionel Andrés Messi Cuccittini               CF   \n",
       "1  Cristiano Ronaldo  Cristiano Ronaldo dos Santos Aveiro           LW, LM   \n",
       "\n",
       "   overall  potential    value_eur  wage_eur  age  ...   lcb    cb   rcb  \\\n",
       "0       93         95  100500000.0  550000.0   27  ...  45+3  45+3  45+3   \n",
       "1       92         92   79000000.0  375000.0   29  ...  52+3  52+3  52+3   \n",
       "\n",
       "     rb    gk                                    player_face_url  \\\n",
       "0  54+3  15+3  https://cdn.sofifa.net/players/158/023/15_120.png   \n",
       "1  57+3  16+3  https://cdn.sofifa.net/players/020/801/15_120.png   \n",
       "\n",
       "                             club_logo_url  \\\n",
       "0  https://cdn.sofifa.net/teams/241/60.png   \n",
       "1  https://cdn.sofifa.net/teams/243/60.png   \n",
       "\n",
       "                         club_flag_url  \\\n",
       "0  https://cdn.sofifa.net/flags/es.png   \n",
       "1  https://cdn.sofifa.net/flags/es.png   \n",
       "\n",
       "                            nation_logo_url  \\\n",
       "0  https://cdn.sofifa.net/teams/1369/60.png   \n",
       "1  https://cdn.sofifa.net/teams/1354/60.png   \n",
       "\n",
       "                       nation_flag_url  \n",
       "0  https://cdn.sofifa.net/flags/ar.png  \n",
       "1  https://cdn.sofifa.net/flags/pt.png  \n",
       "\n",
       "[2 rows x 110 columns]"
      ]
     },
     "execution_count": 3,
     "metadata": {},
     "output_type": "execute_result"
    }
   ],
   "source": [
    "# Analyse de player 15  fichier csv comme dataframe\n",
    "df15 = pd.read_csv(cwd+'\\\\datas\\\\players_15.csv')\n",
    "df15 = df15.iloc[:2]\n",
    "df15"
   ]
  },
  {
   "cell_type": "code",
   "execution_count": 4,
   "id": "93236c6c",
   "metadata": {},
   "outputs": [
    {
     "data": {
      "text/plain": [
       "Index(['sofifa_id', 'player_url', 'short_name', 'long_name',\n",
       "       'player_positions', 'overall', 'potential', 'value_eur', 'wage_eur',\n",
       "       'age',\n",
       "       ...\n",
       "       'lcb', 'cb', 'rcb', 'rb', 'gk', 'player_face_url', 'club_logo_url',\n",
       "       'club_flag_url', 'nation_logo_url', 'nation_flag_url'],\n",
       "      dtype='object', length=110)"
      ]
     },
     "execution_count": 4,
     "metadata": {},
     "output_type": "execute_result"
    }
   ],
   "source": [
    "df15.columns"
   ]
  },
  {
   "cell_type": "code",
   "execution_count": 5,
   "id": "4caa11eb",
   "metadata": {},
   "outputs": [
    {
     "data": {
      "text/html": [
       "<div>\n",
       "<style scoped>\n",
       "    .dataframe tbody tr th:only-of-type {\n",
       "        vertical-align: middle;\n",
       "    }\n",
       "\n",
       "    .dataframe tbody tr th {\n",
       "        vertical-align: top;\n",
       "    }\n",
       "\n",
       "    .dataframe thead th {\n",
       "        text-align: right;\n",
       "    }\n",
       "</style>\n",
       "<table border=\"1\" class=\"dataframe\">\n",
       "  <thead>\n",
       "    <tr style=\"text-align: right;\">\n",
       "      <th></th>\n",
       "      <th>sofifa_id</th>\n",
       "      <th>short name</th>\n",
       "      <th>overall</th>\n",
       "      <th>potential</th>\n",
       "      <th>value_eur</th>\n",
       "      <th>wage_eur</th>\n",
       "      <th>age</th>\n",
       "      <th>height_cm</th>\n",
       "      <th>weight_kg</th>\n",
       "      <th>club_team_id</th>\n",
       "      <th>...</th>\n",
       "      <th>mentality_vision</th>\n",
       "      <th>mentality_penalties</th>\n",
       "      <th>defending_marking_awareness</th>\n",
       "      <th>defending_standing_tackle</th>\n",
       "      <th>defending_sliding_tackle</th>\n",
       "      <th>goalkeeping_diving</th>\n",
       "      <th>goalkeeping_handling</th>\n",
       "      <th>goalkeeping_kicking</th>\n",
       "      <th>goalkeeping_positioning</th>\n",
       "      <th>goalkeeping_reflexes</th>\n",
       "    </tr>\n",
       "  </thead>\n",
       "  <tbody>\n",
       "    <tr>\n",
       "      <th>0</th>\n",
       "      <td>158023</td>\n",
       "      <td>L. Messi</td>\n",
       "      <td>93</td>\n",
       "      <td>95</td>\n",
       "      <td>100500000.0</td>\n",
       "      <td>550000.0</td>\n",
       "      <td>27</td>\n",
       "      <td>169</td>\n",
       "      <td>67</td>\n",
       "      <td>241.0</td>\n",
       "      <td>...</td>\n",
       "      <td>90</td>\n",
       "      <td>76</td>\n",
       "      <td>25</td>\n",
       "      <td>21</td>\n",
       "      <td>20</td>\n",
       "      <td>6</td>\n",
       "      <td>11</td>\n",
       "      <td>15</td>\n",
       "      <td>14</td>\n",
       "      <td>8</td>\n",
       "    </tr>\n",
       "    <tr>\n",
       "      <th>1</th>\n",
       "      <td>20801</td>\n",
       "      <td>Cristiano Ronaldo</td>\n",
       "      <td>92</td>\n",
       "      <td>92</td>\n",
       "      <td>79000000.0</td>\n",
       "      <td>375000.0</td>\n",
       "      <td>29</td>\n",
       "      <td>185</td>\n",
       "      <td>80</td>\n",
       "      <td>243.0</td>\n",
       "      <td>...</td>\n",
       "      <td>81</td>\n",
       "      <td>85</td>\n",
       "      <td>22</td>\n",
       "      <td>31</td>\n",
       "      <td>23</td>\n",
       "      <td>7</td>\n",
       "      <td>11</td>\n",
       "      <td>15</td>\n",
       "      <td>14</td>\n",
       "      <td>11</td>\n",
       "    </tr>\n",
       "  </tbody>\n",
       "</table>\n",
       "<p>2 rows × 58 columns</p>\n",
       "</div>"
      ],
      "text/plain": [
       "   sofifa_id         short name  overall  potential    value_eur  wage_eur  \\\n",
       "0     158023           L. Messi       93         95  100500000.0  550000.0   \n",
       "1      20801  Cristiano Ronaldo       92         92   79000000.0  375000.0   \n",
       "\n",
       "   age  height_cm  weight_kg  club_team_id  ...  mentality_vision  \\\n",
       "0   27        169         67         241.0  ...                90   \n",
       "1   29        185         80         243.0  ...                81   \n",
       "\n",
       "   mentality_penalties  defending_marking_awareness  \\\n",
       "0                   76                           25   \n",
       "1                   85                           22   \n",
       "\n",
       "   defending_standing_tackle  defending_sliding_tackle  goalkeeping_diving  \\\n",
       "0                         21                        20                   6   \n",
       "1                         31                        23                   7   \n",
       "\n",
       "   goalkeeping_handling  goalkeeping_kicking  goalkeeping_positioning  \\\n",
       "0                    11                   15                       14   \n",
       "1                    11                   15                       14   \n",
       "\n",
       "   goalkeeping_reflexes  \n",
       "0                     8  \n",
       "1                    11  \n",
       "\n",
       "[2 rows x 58 columns]"
      ]
     },
     "execution_count": 5,
     "metadata": {},
     "output_type": "execute_result"
    }
   ],
   "source": [
    "df15new = df15.select_dtypes(include='number')\n",
    "df15new.insert(1, 'short name', df15['short_name'])\n",
    "df15new = df15new.dropna(axis=1)\n",
    "df15new\n"
   ]
  },
  {
   "cell_type": "raw",
   "id": "b0bcd2bc",
   "metadata": {},
   "source": [
    "Comparaison age "
   ]
  },
  {
   "cell_type": "code",
   "execution_count": 6,
   "id": "71a5d9b0",
   "metadata": {},
   "outputs": [
    {
     "data": {
      "text/plain": [
       "<AxesSubplot:xlabel='short name', ylabel='age'>"
      ]
     },
     "execution_count": 6,
     "metadata": {},
     "output_type": "execute_result"
    },
    {
     "data": {
      "image/png": "[encoded data removed]",
      "text/plain": [
       "<Figure size 432x288 with 1 Axes>"
      ]
     },
     "metadata": {
      "needs_background": "light"
     },
     "output_type": "display_data"
    }
   ],
   "source": [
    "sns.barplot(x=\"short name\", y=\"age\", data=df15new)"
   ]
  },
  {
   "cell_type": "code",
   "execution_count": 7,
   "id": "9385574b",
   "metadata": {},
   "outputs": [
    {
     "ename": "SyntaxError",
     "evalue": "invalid syntax (<ipython-input-7-e4814f81ee88>, line 1)",
     "output_type": "error",
     "traceback": [
      "\u001b[1;36m  File \u001b[1;32m\"<ipython-input-7-e4814f81ee88>\"\u001b[1;36m, line \u001b[1;32m1\u001b[0m\n\u001b[1;33m    Comparaison taille et poids\u001b[0m\n\u001b[1;37m                ^\u001b[0m\n\u001b[1;31mSyntaxError\u001b[0m\u001b[1;31m:\u001b[0m invalid syntax\n"
     ]
    }
   ],
   "source": [
    "Comparaison taille et poids"
   ]
  },
  {
   "cell_type": "code",
   "execution_count": null,
   "id": "b854e643",
   "metadata": {},
   "outputs": [],
   "source": [
    "sns.barplot(x=\"short name\", y=\"weight_kg\", hue=\"age\", data=df15new)"
   ]
  },
  {
   "cell_type": "code",
   "execution_count": null,
   "id": "df5e2ce2",
   "metadata": {},
   "outputs": [],
   "source": [
    "comparaison salaire"
   ]
  },
  {
   "cell_type": "code",
   "execution_count": null,
   "id": "682dc455",
   "metadata": {},
   "outputs": [],
   "source": [
    "sns.barplot(x=\"wage_eur\", y=\"short name\", data=df15new)"
   ]
  },
  {
   "cell_type": "raw",
   "id": "89b29883",
   "metadata": {},
   "source": [
    "comparaison overall "
   ]
  },
  {
   "cell_type": "code",
   "execution_count": null,
   "id": "f83f339c",
   "metadata": {},
   "outputs": [],
   "source": [
    "sns.barplot(x=\"overall\", y=\"short name\", hue=\"age\", data=df15new)\n",
    "#sns.barplot(x=\"overall\", y=\"short name\", hue=\"age\", data=df15new)"
   ]
  },
  {
   "cell_type": "code",
   "execution_count": null,
   "id": "74e3c72c",
   "metadata": {},
   "outputs": [],
   "source": [
    "comparaison potentiel"
   ]
  },
  {
   "cell_type": "code",
   "execution_count": null,
   "id": "3a8a5cd7",
   "metadata": {},
   "outputs": [],
   "source": [
    "sns.barplot(x=\"potential\", y=\"short name\", data=df15new)"
   ]
  },
  {
   "cell_type": "code",
   "execution_count": null,
   "id": "c33c6131",
   "metadata": {},
   "outputs": [],
   "source": [
    "sns.barplot(x=\"short name\", y=\"value_eur\",\n",
    "            hue=\"age\", data=df15new)\n",
    "sns.despine(offset=10, trim=True)"
   ]
  },
  {
   "cell_type": "code",
   "execution_count": null,
   "id": "78c80499",
   "metadata": {},
   "outputs": [],
   "source": []
  },
  {
   "cell_type": "raw",
   "id": "60497d2e",
   "metadata": {},
   "source": [
    "16"
   ]
  },
  {
   "cell_type": "code",
   "execution_count": null,
   "id": "c87bed37",
   "metadata": {},
   "outputs": [],
   "source": [
    "# Analyse de player 15  fichier csv comme dataframe\n",
    "df16 = pd.read_csv(cwd+'\\\\datas\\\\players_16.csv')\n",
    "df16 = df16.iloc[:2]\n",
    "df16"
   ]
  },
  {
   "cell_type": "code",
   "execution_count": null,
   "id": "e9fada83",
   "metadata": {},
   "outputs": [],
   "source": [
    "df16new = df16.select_dtypes(include='number')\n",
    "df16new.insert(1, 'short name', df16['short_name'])\n",
    "df16new = df16new.dropna(axis=1)\n",
    "df16new"
   ]
  },
  {
   "cell_type": "raw",
   "id": "5069f18d",
   "metadata": {},
   "source": [
    "Comparaison age "
   ]
  },
  {
   "cell_type": "code",
   "execution_count": null,
   "id": "62e32928",
   "metadata": {},
   "outputs": [],
   "source": [
    "sns.barplot(x=\"short name\", y=\"age\", data=df16new)"
   ]
  },
  {
   "cell_type": "raw",
   "id": "6b726e64",
   "metadata": {},
   "source": [
    "Comparaison taille et poids"
   ]
  },
  {
   "cell_type": "code",
   "execution_count": null,
   "id": "6328d78b",
   "metadata": {},
   "outputs": [],
   "source": [
    "sns.barplot(x=\"short name\", y=\"weight_kg\", hue=\"age\", data=df16new)"
   ]
  },
  {
   "cell_type": "raw",
   "id": "8d6f846d",
   "metadata": {},
   "source": [
    "comparaison salaire"
   ]
  },
  {
   "cell_type": "code",
   "execution_count": null,
   "id": "7004bbd0",
   "metadata": {},
   "outputs": [],
   "source": [
    "sns.barplot(x=\"wage_eur\", y=\"short name\", data=df16new)"
   ]
  },
  {
   "cell_type": "raw",
   "id": "20ad9302",
   "metadata": {},
   "source": [
    "comparaison overall "
   ]
  },
  {
   "cell_type": "code",
   "execution_count": null,
   "id": "6aad8fe1",
   "metadata": {},
   "outputs": [],
   "source": [
    "sns.barplot(x=\"overall\", y=\"short name\", hue=\"age\", data=df16new)\n",
    "#sns.barplot(x=\"overall\", y=\"short name\", hue=\"age\", data=df15new)"
   ]
  },
  {
   "cell_type": "raw",
   "id": "32025025",
   "metadata": {},
   "source": [
    "comparaison potentiel"
   ]
  },
  {
   "cell_type": "code",
   "execution_count": null,
   "id": "77b863aa",
   "metadata": {},
   "outputs": [],
   "source": [
    "sns.barplot(x=\"potential\", y=\"short name\", data=df16new)"
   ]
  },
  {
   "cell_type": "raw",
   "id": "87e7891b",
   "metadata": {},
   "source": [
    "Comparaison valeur "
   ]
  },
  {
   "cell_type": "code",
   "execution_count": null,
   "id": "4a3b1b61",
   "metadata": {},
   "outputs": [],
   "source": [
    "sns.barplot(x=\"short name\", y=\"value_eur\",\n",
    "            hue=\"age\", data=df16new)\n",
    "sns.despine(offset=10, trim=True)"
   ]
  },
  {
   "cell_type": "code",
   "execution_count": null,
   "id": "1ab3984c",
   "metadata": {},
   "outputs": [],
   "source": []
  },
  {
   "cell_type": "code",
   "execution_count": null,
   "id": "a0224f3d",
   "metadata": {},
   "outputs": [],
   "source": []
  },
  {
   "cell_type": "code",
   "execution_count": null,
   "id": "e64fa5d5",
   "metadata": {},
   "outputs": [],
   "source": []
  },
  {
   "cell_type": "code",
   "execution_count": null,
   "id": "c12d0db2",
   "metadata": {},
   "outputs": [],
   "source": []
  },
  {
   "cell_type": "code",
   "execution_count": null,
   "id": "912a8f7f",
   "metadata": {},
   "outputs": [],
   "source": []
  },
  {
   "cell_type": "raw",
   "id": "923541ad",
   "metadata": {},
   "source": [
    "17"
   ]
  },
  {
   "cell_type": "code",
   "execution_count": null,
   "id": "c485fa82",
   "metadata": {},
   "outputs": [],
   "source": [
    "# Analyse de player 15  fichier csv comme dataframe\n",
    "df17 = pd.read_csv(cwd+'\\\\datas\\\\players_17.csv')\n",
    "df17= df17.iloc[:2]\n",
    "df17"
   ]
  },
  {
   "cell_type": "code",
   "execution_count": null,
   "id": "26a034a3",
   "metadata": {},
   "outputs": [],
   "source": [
    "df17new = df17.select_dtypes(include='number')\n",
    "df17new.insert(1, 'short name', df17['short_name'])\n",
    "df17new = df17new.dropna(axis=1)\n",
    "df17new"
   ]
  },
  {
   "cell_type": "raw",
   "id": "b408973b",
   "metadata": {},
   "source": [
    "Comparaison age "
   ]
  },
  {
   "cell_type": "code",
   "execution_count": null,
   "id": "b75a739c",
   "metadata": {},
   "outputs": [],
   "source": [
    "sns.barplot(x=\"short name\", y=\"age\", data=df17new)"
   ]
  },
  {
   "cell_type": "raw",
   "id": "92cfd222",
   "metadata": {},
   "source": [
    "Comparaison taille et poids"
   ]
  },
  {
   "cell_type": "code",
   "execution_count": null,
   "id": "571b7b77",
   "metadata": {},
   "outputs": [],
   "source": [
    "sns.barplot(x=\"short name\", y=\"weight_kg\", hue=\"age\", data=df17new)"
   ]
  },
  {
   "cell_type": "raw",
   "id": "de5763e5",
   "metadata": {},
   "source": [
    "comparaison salaire"
   ]
  },
  {
   "cell_type": "code",
   "execution_count": null,
   "id": "284b0bf7",
   "metadata": {},
   "outputs": [],
   "source": [
    "sns.barplot(x=\"wage_eur\", y=\"short name\", data=df17new)"
   ]
  },
  {
   "cell_type": "raw",
   "id": "c7e4eab7",
   "metadata": {},
   "source": [
    "comparaison overall "
   ]
  },
  {
   "cell_type": "code",
   "execution_count": null,
   "id": "37bc67b4",
   "metadata": {},
   "outputs": [],
   "source": [
    "sns.barplot(x=\"overall\", y=\"short name\", hue=\"age\", data=df17new)\n",
    "#sns.barplot(x=\"overall\", y=\"short name\", hue=\"age\", data=df17new)"
   ]
  },
  {
   "cell_type": "raw",
   "id": "c08d9739",
   "metadata": {},
   "source": [
    "comparaison potentiel"
   ]
  },
  {
   "cell_type": "code",
   "execution_count": null,
   "id": "6dc7c45c",
   "metadata": {},
   "outputs": [],
   "source": [
    "sns.barplot(x=\"potential\", y=\"short name\", data=df17new)"
   ]
  },
  {
   "cell_type": "raw",
   "id": "ca51ebab",
   "metadata": {},
   "source": [
    "comparaison valeur"
   ]
  },
  {
   "cell_type": "code",
   "execution_count": null,
   "id": "f3cb99cf",
   "metadata": {},
   "outputs": [],
   "source": [
    "sns.barplot(x=\"short name\", y=\"value_eur\",\n",
    "            hue=\"age\", data=df17new)\n",
    "sns.despine(offset=10, trim=True)"
   ]
  },
  {
   "cell_type": "code",
   "execution_count": null,
   "id": "83279167",
   "metadata": {},
   "outputs": [],
   "source": []
  },
  {
   "cell_type": "code",
   "execution_count": null,
   "id": "85127bd1",
   "metadata": {},
   "outputs": [],
   "source": []
  },
  {
   "cell_type": "code",
   "execution_count": null,
   "id": "86f10b69",
   "metadata": {},
   "outputs": [],
   "source": []
  },
  {
   "cell_type": "code",
   "execution_count": null,
   "id": "84863c16",
   "metadata": {},
   "outputs": [],
   "source": []
  },
  {
   "cell_type": "code",
   "execution_count": null,
   "id": "fe863a4d",
   "metadata": {},
   "outputs": [],
   "source": []
  },
  {
   "cell_type": "code",
   "execution_count": null,
   "id": "cdb33410",
   "metadata": {},
   "outputs": [],
   "source": []
  },
  {
   "cell_type": "code",
   "execution_count": null,
   "id": "cda2cea6",
   "metadata": {},
   "outputs": [],
   "source": []
  },
  {
   "cell_type": "raw",
   "id": "72a80493",
   "metadata": {},
   "source": [
    "18"
   ]
  },
  {
   "cell_type": "code",
   "execution_count": null,
   "id": "600077eb",
   "metadata": {},
   "outputs": [],
   "source": [
    "# Analyse de player 15  fichier csv comme dataframe\n",
    "df18 = pd.read_csv(cwd+'\\\\datas\\\\players_18.csv')\n",
    "df18 = df18.iloc[:2]\n",
    "df18"
   ]
  },
  {
   "cell_type": "code",
   "execution_count": null,
   "id": "8457171f",
   "metadata": {},
   "outputs": [],
   "source": [
    "df18new = df18.select_dtypes(include='number')\n",
    "df18new.insert(1, 'short name', df18['short_name'])\n",
    "df18new = df18new.dropna(axis=1)\n",
    "df18new"
   ]
  },
  {
   "cell_type": "raw",
   "id": "63924214",
   "metadata": {},
   "source": [
    "Comparaison age "
   ]
  },
  {
   "cell_type": "code",
   "execution_count": null,
   "id": "9d7144ab",
   "metadata": {},
   "outputs": [],
   "source": [
    "sns.barplot(x=\"short name\", y=\"age\", data=df18new)"
   ]
  },
  {
   "cell_type": "raw",
   "id": "8e573d7f",
   "metadata": {},
   "source": [
    "Comparaison taille et poids"
   ]
  },
  {
   "cell_type": "code",
   "execution_count": null,
   "id": "55b9fbe6",
   "metadata": {},
   "outputs": [],
   "source": [
    "sns.barplot(x=\"short name\", y=\"weight_kg\", hue=\"age\", data=df18new)"
   ]
  },
  {
   "cell_type": "raw",
   "id": "38db8473",
   "metadata": {},
   "source": [
    "comparaison salaire"
   ]
  },
  {
   "cell_type": "code",
   "execution_count": null,
   "id": "ee386aff",
   "metadata": {},
   "outputs": [],
   "source": [
    "sns.barplot(x=\"wage_eur\", y=\"short name\", data=df18new)"
   ]
  },
  {
   "cell_type": "raw",
   "id": "030e835e",
   "metadata": {},
   "source": [
    "comparaison overall "
   ]
  },
  {
   "cell_type": "code",
   "execution_count": null,
   "id": "5618156d",
   "metadata": {},
   "outputs": [],
   "source": [
    "sns.barplot(x=\"overall\", y=\"short name\", hue=\"age\", data=df18new)\n",
    "#sns.barplot(x=\"overall\", y=\"short name\", hue=\"age\", data=df18new)"
   ]
  },
  {
   "cell_type": "raw",
   "id": "0502c171",
   "metadata": {},
   "source": [
    "comparaison potentiel"
   ]
  },
  {
   "cell_type": "code",
   "execution_count": null,
   "id": "5a5f28f5",
   "metadata": {},
   "outputs": [],
   "source": [
    "sns.barplot(x=\"potential\", y=\"short name\", data=df18new)"
   ]
  },
  {
   "cell_type": "raw",
   "id": "754e24b5",
   "metadata": {},
   "source": [
    "comparaison valeur"
   ]
  },
  {
   "cell_type": "code",
   "execution_count": null,
   "id": "d5183812",
   "metadata": {},
   "outputs": [],
   "source": [
    "sns.barplot(x=\"short name\", y=\"value_eur\",\n",
    "            hue=\"age\", data=df18new)\n",
    "sns.despine(offset=10, trim=True)"
   ]
  },
  {
   "cell_type": "code",
   "execution_count": null,
   "id": "11b86304",
   "metadata": {},
   "outputs": [],
   "source": []
  },
  {
   "cell_type": "code",
   "execution_count": null,
   "id": "8dc7b589",
   "metadata": {},
   "outputs": [],
   "source": []
  },
  {
   "cell_type": "code",
   "execution_count": null,
   "id": "185337ff",
   "metadata": {},
   "outputs": [],
   "source": []
  },
  {
   "cell_type": "code",
   "execution_count": null,
   "id": "ddfbef4d",
   "metadata": {},
   "outputs": [],
   "source": []
  },
  {
   "cell_type": "raw",
   "id": "7fb6db09",
   "metadata": {},
   "source": [
    "19"
   ]
  },
  {
   "cell_type": "code",
   "execution_count": null,
   "id": "691a711f",
   "metadata": {},
   "outputs": [],
   "source": [
    "# Analyse de player 15  fichier csv comme dataframe\n",
    "df19 = pd.read_csv(cwd+'\\\\datas\\\\players_19.csv')\n",
    "df19 = df19.iloc[:2]\n",
    "df19"
   ]
  },
  {
   "cell_type": "code",
   "execution_count": null,
   "id": "9b035d80",
   "metadata": {},
   "outputs": [],
   "source": [
    "df19new = df19.select_dtypes(include='number')\n",
    "df19new.insert(1, 'short name', df19['short_name'])\n",
    "df19new = df19new.dropna(axis=1)\n",
    "df19new"
   ]
  },
  {
   "cell_type": "raw",
   "id": "afb12c36",
   "metadata": {},
   "source": [
    "Comparaison age "
   ]
  },
  {
   "cell_type": "code",
   "execution_count": null,
   "id": "2e885240",
   "metadata": {},
   "outputs": [],
   "source": [
    "sns.barplot(x=\"short name\", y=\"age\", data=df19new)"
   ]
  },
  {
   "cell_type": "raw",
   "id": "12ecbb98",
   "metadata": {},
   "source": [
    "Comparaison taille et poids"
   ]
  },
  {
   "cell_type": "code",
   "execution_count": null,
   "id": "707d3f50",
   "metadata": {},
   "outputs": [],
   "source": [
    "sns.barplot(x=\"short name\", y=\"weight_kg\", hue=\"age\", data=df19new)"
   ]
  },
  {
   "cell_type": "raw",
   "id": "73a799cd",
   "metadata": {},
   "source": [
    "comparaison salaire"
   ]
  },
  {
   "cell_type": "code",
   "execution_count": null,
   "id": "0042cfc3",
   "metadata": {},
   "outputs": [],
   "source": [
    "sns.barplot(x=\"wage_eur\", y=\"short name\", data=df19new)"
   ]
  },
  {
   "cell_type": "raw",
   "id": "d8cda014",
   "metadata": {},
   "source": [
    "comparaison overall "
   ]
  },
  {
   "cell_type": "code",
   "execution_count": null,
   "id": "ed86f2fc",
   "metadata": {},
   "outputs": [],
   "source": [
    "sns.barplot(x=\"overall\", y=\"short name\", hue=\"age\", data=df19new)\n",
    "#sns.barplot(x=\"overall\", y=\"short name\", hue=\"age\", data=df19new)"
   ]
  },
  {
   "cell_type": "raw",
   "id": "d890758c",
   "metadata": {},
   "source": [
    "comparaison potentiel"
   ]
  },
  {
   "cell_type": "code",
   "execution_count": null,
   "id": "50cad3ca",
   "metadata": {},
   "outputs": [],
   "source": [
    "sns.barplot(x=\"potential\", y=\"short name\", data=df19new)"
   ]
  },
  {
   "cell_type": "raw",
   "id": "ef7652ec",
   "metadata": {},
   "source": [
    "# Comparaison valeur"
   ]
  },
  {
   "cell_type": "code",
   "execution_count": null,
   "id": "4c106472",
   "metadata": {},
   "outputs": [],
   "source": [
    "sns.barplot(x=\"short name\", y=\"value_eur\",\n",
    "            hue=\"age\", data=df19new)\n",
    "sns.despine(offset=10, trim=True)"
   ]
  },
  {
   "cell_type": "code",
   "execution_count": null,
   "id": "cac208c0",
   "metadata": {},
   "outputs": [],
   "source": []
  },
  {
   "cell_type": "code",
   "execution_count": null,
   "id": "3f0339ac",
   "metadata": {},
   "outputs": [],
   "source": []
  },
  {
   "cell_type": "code",
   "execution_count": null,
   "id": "27141d9b",
   "metadata": {},
   "outputs": [],
   "source": []
  },
  {
   "cell_type": "raw",
   "id": "98de1fec",
   "metadata": {},
   "source": [
    "20"
   ]
  },
  {
   "cell_type": "code",
   "execution_count": null,
   "id": "2c11d0e3",
   "metadata": {},
   "outputs": [],
   "source": [
    "# Analyse de player 15  fichier csv comme dataframe\n",
    "df20 = pd.read_csv(cwd+'\\\\datas\\\\players_20.csv')\n",
    "df20 = df20.iloc[:2]\n",
    "df20"
   ]
  },
  {
   "cell_type": "code",
   "execution_count": null,
   "id": "2fb178d5",
   "metadata": {},
   "outputs": [],
   "source": [
    "df20new = df20.select_dtypes(include='number')\n",
    "df20new.insert(1, 'short name', df20['short_name'])\n",
    "df20new = df20new.dropna(axis=1)\n",
    "df20new"
   ]
  },
  {
   "cell_type": "raw",
   "id": "1f471d72",
   "metadata": {},
   "source": [
    "Comparaison age "
   ]
  },
  {
   "cell_type": "code",
   "execution_count": null,
   "id": "b5928afb",
   "metadata": {},
   "outputs": [],
   "source": [
    "sns.barplot(x=\"short name\", y=\"age\", data=df20new)"
   ]
  },
  {
   "cell_type": "raw",
   "id": "d543e868",
   "metadata": {},
   "source": [
    "Comparaison taille et poids"
   ]
  },
  {
   "cell_type": "code",
   "execution_count": null,
   "id": "36a7390d",
   "metadata": {},
   "outputs": [],
   "source": [
    "sns.barplot(x=\"short name\", y=\"weight_kg\", hue=\"age\", data=df20new)"
   ]
  },
  {
   "cell_type": "raw",
   "id": "195f86bf",
   "metadata": {},
   "source": [
    "comparaison salaire"
   ]
  },
  {
   "cell_type": "code",
   "execution_count": null,
   "id": "e13934a3",
   "metadata": {},
   "outputs": [],
   "source": [
    "sns.barplot(x=\"wage_eur\", y=\"short name\", data=df20new)"
   ]
  },
  {
   "cell_type": "raw",
   "id": "08942e4d",
   "metadata": {},
   "source": [
    "comparaison overall "
   ]
  },
  {
   "cell_type": "code",
   "execution_count": null,
   "id": "8de71b8e",
   "metadata": {},
   "outputs": [],
   "source": [
    "sns.barplot(x=\"overall\", y=\"short name\", hue=\"age\", data=df20new)\n",
    "#sns.barplot(x=\"overall\", y=\"short name\", hue=\"age\", data=df20new)"
   ]
  },
  {
   "cell_type": "raw",
   "id": "79e85031",
   "metadata": {},
   "source": [
    "comparaison potentiel"
   ]
  },
  {
   "cell_type": "code",
   "execution_count": null,
   "id": "158d5af9",
   "metadata": {},
   "outputs": [],
   "source": [
    "sns.barplot(x=\"potential\", y=\"short name\", data=df20new)"
   ]
  },
  {
   "cell_type": "raw",
   "id": "89011141",
   "metadata": {},
   "source": [
    "Comparaison valeur"
   ]
  },
  {
   "cell_type": "code",
   "execution_count": null,
   "id": "41506f10",
   "metadata": {},
   "outputs": [],
   "source": [
    "sns.barplot(x=\"short name\", y=\"value_eur\",\n",
    "            hue=\"age\", data=df20new)\n",
    "sns.despine(offset=10, trim=True)"
   ]
  },
  {
   "cell_type": "code",
   "execution_count": null,
   "id": "f05d1211",
   "metadata": {},
   "outputs": [],
   "source": []
  },
  {
   "cell_type": "code",
   "execution_count": null,
   "id": "79df7267",
   "metadata": {},
   "outputs": [],
   "source": []
  },
  {
   "cell_type": "raw",
   "id": "6254d404",
   "metadata": {},
   "source": [
    "21"
   ]
  },
  {
   "cell_type": "code",
   "execution_count": null,
   "id": "6f0c1701",
   "metadata": {},
   "outputs": [],
   "source": [
    "# Analyse de player 15  fichier csv comme dataframe\n",
    "df21 = pd.read_csv(cwd+'\\\\datas\\\\players_21.csv')\n",
    "df21 = df21.iloc[:2]\n",
    "df21"
   ]
  },
  {
   "cell_type": "code",
   "execution_count": null,
   "id": "ceef13b3",
   "metadata": {},
   "outputs": [],
   "source": [
    "df21new = df21.select_dtypes(include='number')\n",
    "df21new.insert(1, 'short name', df21['short_name'])\n",
    "df21new = df21new.dropna(axis=1)\n",
    "df21new"
   ]
  },
  {
   "cell_type": "raw",
   "id": "5b567430",
   "metadata": {},
   "source": [
    "Comparaison age "
   ]
  },
  {
   "cell_type": "code",
   "execution_count": null,
   "id": "25d5e9d1",
   "metadata": {},
   "outputs": [],
   "source": [
    "sns.barplot(x=\"short name\", y=\"age\", data=df21new)"
   ]
  },
  {
   "cell_type": "raw",
   "id": "688df218",
   "metadata": {},
   "source": [
    "Comparaison taille et poids"
   ]
  },
  {
   "cell_type": "code",
   "execution_count": null,
   "id": "c3140201",
   "metadata": {},
   "outputs": [],
   "source": [
    "sns.barplot(x=\"short name\", y=\"weight_kg\", hue=\"age\", data=df21new)"
   ]
  },
  {
   "cell_type": "raw",
   "id": "a5479ccc",
   "metadata": {},
   "source": [
    "comparaison salaire"
   ]
  },
  {
   "cell_type": "code",
   "execution_count": null,
   "id": "f6fd6c71",
   "metadata": {},
   "outputs": [],
   "source": [
    "sns.barplot(x=\"wage_eur\", y=\"short name\", data=df21new)"
   ]
  },
  {
   "cell_type": "raw",
   "id": "e47a3da4",
   "metadata": {},
   "source": [
    "comparaison overall "
   ]
  },
  {
   "cell_type": "code",
   "execution_count": null,
   "id": "7e840f46",
   "metadata": {},
   "outputs": [],
   "source": [
    "sns.barplot(x=\"overall\", y=\"short name\", hue=\"age\", data=df21new)\n",
    "#sns.barplot(x=\"overall\", y=\"short name\", hue=\"age\", data=df21new)"
   ]
  },
  {
   "cell_type": "raw",
   "id": "b38a2dee",
   "metadata": {},
   "source": [
    "comparaison potentiel"
   ]
  },
  {
   "cell_type": "code",
   "execution_count": null,
   "id": "e136414c",
   "metadata": {},
   "outputs": [],
   "source": [
    "sns.barplot(x=\"potential\", y=\"short name\", data=df21new)"
   ]
  },
  {
   "cell_type": "raw",
   "id": "69712d3f",
   "metadata": {},
   "source": [
    "Comparaison valeur"
   ]
  },
  {
   "cell_type": "code",
   "execution_count": null,
   "id": "df1b9182",
   "metadata": {},
   "outputs": [],
   "source": [
    "sns.barplot(x=\"short name\", y=\"value_eur\",\n",
    "            hue=\"age\", data=df21new)\n",
    "sns.despine(offset=10, trim=True)"
   ]
  },
  {
   "cell_type": "code",
   "execution_count": null,
   "id": "12bebdc5",
   "metadata": {},
   "outputs": [],
   "source": []
  },
  {
   "cell_type": "code",
   "execution_count": null,
   "id": "dbb0262f",
   "metadata": {},
   "outputs": [],
   "source": []
  },
  {
   "cell_type": "code",
   "execution_count": null,
   "id": "8df183fb",
   "metadata": {},
   "outputs": [],
   "source": []
  },
  {
   "cell_type": "raw",
   "id": "6c85dfae",
   "metadata": {},
   "source": [
    "22"
   ]
  },
  {
   "cell_type": "code",
   "execution_count": null,
   "id": "e498b3fd",
   "metadata": {},
   "outputs": [],
   "source": [
    "# Analyse de player 22  fichier csv comme dataframe\n",
    "df22 = pd.read_csv(cwd+'\\\\datas\\\\players_22.csv')\n",
    "df22 = df22.iloc[:2]\n",
    "df22"
   ]
  },
  {
   "cell_type": "code",
   "execution_count": null,
   "id": "02e9a485",
   "metadata": {},
   "outputs": [],
   "source": [
    "df22new = df22.select_dtypes(include='number')\n",
    "df22new.insert(1, 'short name', df22['short_name'])\n",
    "df22new = df22new.dropna(axis=1)\n",
    "df22new"
   ]
  },
  {
   "cell_type": "raw",
   "id": "b3a10966",
   "metadata": {},
   "source": [
    "# Comparaison age "
   ]
  },
  {
   "cell_type": "code",
   "execution_count": null,
   "id": "b2cd67c3",
   "metadata": {},
   "outputs": [],
   "source": [
    "sns.barplot(x=\"short name\", y=\"age\", data=df22new)"
   ]
  },
  {
   "cell_type": "raw",
   "id": "9eef5f36",
   "metadata": {},
   "source": [
    "Comparaison taille et poids"
   ]
  },
  {
   "cell_type": "code",
   "execution_count": null,
   "id": "4aaf619f",
   "metadata": {},
   "outputs": [],
   "source": [
    "sns.barplot(x=\"short name\", y=\"weight_kg\", hue=\"age\", data=df22new)"
   ]
  },
  {
   "cell_type": "raw",
   "id": "e5e4550c",
   "metadata": {},
   "source": [
    "comparaison salaire"
   ]
  },
  {
   "cell_type": "code",
   "execution_count": null,
   "id": "13d3e6d6",
   "metadata": {},
   "outputs": [],
   "source": [
    "sns.barplot(x=\"wage_eur\", y=\"short name\", data=df22new)"
   ]
  },
  {
   "cell_type": "raw",
   "id": "d8b8d848",
   "metadata": {},
   "source": [
    "comparaison overall "
   ]
  },
  {
   "cell_type": "code",
   "execution_count": null,
   "id": "4808c346",
   "metadata": {},
   "outputs": [],
   "source": [
    "sns.barplot(x=\"overall\", y=\"short name\", hue=\"age\", data=df22new)\n",
    "#sns.barplot(x=\"overall\", y=\"short name\", hue=\"age\", data=df15new)"
   ]
  },
  {
   "cell_type": "raw",
   "id": "5ba541e2",
   "metadata": {},
   "source": [
    "comparaison potentiel"
   ]
  },
  {
   "cell_type": "code",
   "execution_count": null,
   "id": "c71154be",
   "metadata": {},
   "outputs": [],
   "source": [
    "sns.barplot(x=\"potential\", y=\"short name\", data=df22new)"
   ]
  },
  {
   "cell_type": "raw",
   "id": "8fbf2e5c",
   "metadata": {},
   "source": [
    "Comparaison valeur"
   ]
  },
  {
   "cell_type": "code",
   "execution_count": null,
   "id": "74acca5b",
   "metadata": {},
   "outputs": [],
   "source": [
    "sns.barplot(x=\"short name\", y=\"value_eur\",\n",
    "            hue=\"age\", data=df22new)\n",
    "sns.despine(offset=10, trim=True)"
   ]
  },
  {
   "cell_type": "code",
   "execution_count": null,
   "id": "85a59639",
   "metadata": {},
   "outputs": [],
   "source": []
  },
  {
   "cell_type": "code",
   "execution_count": null,
   "id": "ee7364a4",
   "metadata": {},
   "outputs": [],
   "source": []
  },
  {
   "cell_type": "code",
   "execution_count": null,
   "id": "8c797d73",
   "metadata": {},
   "outputs": [],
   "source": []
  }
 ],
 "metadata": {
  "kernelspec": {
   "display_name": "Python 3",
   "language": "python",
   "name": "python3"
  },
  "language_info": {
   "codemirror_mode": {
    "name": "ipython",
    "version": 3
   },
   "file_extension": ".py",
   "mimetype": "text/x-python",
   "name": "python",
   "nbconvert_exporter": "python",
   "pygments_lexer": "ipython3",
   "version": "3.8.8"
  }
 },
 "nbformat": 4,
 "nbformat_minor": 5
}
